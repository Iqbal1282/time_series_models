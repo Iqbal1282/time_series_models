{
 "cells": [
  {
   "cell_type": "code",
   "execution_count": 1,
   "id": "08878adb",
   "metadata": {},
   "outputs": [],
   "source": [
    "import pandas as pd "
   ]
  },
  {
   "cell_type": "code",
   "execution_count": 2,
   "id": "875a07fe",
   "metadata": {},
   "outputs": [],
   "source": [
    "df = pd.read_csv(\"AAPL.csv\")"
   ]
  },
  {
   "cell_type": "code",
   "execution_count": 3,
   "id": "b2206185",
   "metadata": {},
   "outputs": [
    {
     "data": {
      "text/html": [
       "<div>\n",
       "<style scoped>\n",
       "    .dataframe tbody tr th:only-of-type {\n",
       "        vertical-align: middle;\n",
       "    }\n",
       "\n",
       "    .dataframe tbody tr th {\n",
       "        vertical-align: top;\n",
       "    }\n",
       "\n",
       "    .dataframe thead th {\n",
       "        text-align: right;\n",
       "    }\n",
       "</style>\n",
       "<table border=\"1\" class=\"dataframe\">\n",
       "  <thead>\n",
       "    <tr style=\"text-align: right;\">\n",
       "      <th></th>\n",
       "      <th>Unnamed: 0</th>\n",
       "      <th>symbol</th>\n",
       "      <th>date</th>\n",
       "      <th>close</th>\n",
       "      <th>high</th>\n",
       "      <th>low</th>\n",
       "      <th>open</th>\n",
       "      <th>volume</th>\n",
       "      <th>adjClose</th>\n",
       "      <th>adjHigh</th>\n",
       "      <th>adjLow</th>\n",
       "      <th>adjOpen</th>\n",
       "      <th>adjVolume</th>\n",
       "      <th>divCash</th>\n",
       "      <th>splitFactor</th>\n",
       "    </tr>\n",
       "  </thead>\n",
       "  <tbody>\n",
       "    <tr>\n",
       "      <th>0</th>\n",
       "      <td>0</td>\n",
       "      <td>AAPL</td>\n",
       "      <td>2015-05-27 00:00:00+00:00</td>\n",
       "      <td>132.045</td>\n",
       "      <td>132.260</td>\n",
       "      <td>130.05</td>\n",
       "      <td>130.34</td>\n",
       "      <td>45833246</td>\n",
       "      <td>121.682558</td>\n",
       "      <td>121.880685</td>\n",
       "      <td>119.844118</td>\n",
       "      <td>120.111360</td>\n",
       "      <td>45833246</td>\n",
       "      <td>0.0</td>\n",
       "      <td>1.0</td>\n",
       "    </tr>\n",
       "    <tr>\n",
       "      <th>1</th>\n",
       "      <td>1</td>\n",
       "      <td>AAPL</td>\n",
       "      <td>2015-05-28 00:00:00+00:00</td>\n",
       "      <td>131.780</td>\n",
       "      <td>131.950</td>\n",
       "      <td>131.10</td>\n",
       "      <td>131.86</td>\n",
       "      <td>30733309</td>\n",
       "      <td>121.438354</td>\n",
       "      <td>121.595013</td>\n",
       "      <td>120.811718</td>\n",
       "      <td>121.512076</td>\n",
       "      <td>30733309</td>\n",
       "      <td>0.0</td>\n",
       "      <td>1.0</td>\n",
       "    </tr>\n",
       "    <tr>\n",
       "      <th>2</th>\n",
       "      <td>2</td>\n",
       "      <td>AAPL</td>\n",
       "      <td>2015-05-29 00:00:00+00:00</td>\n",
       "      <td>130.280</td>\n",
       "      <td>131.450</td>\n",
       "      <td>129.90</td>\n",
       "      <td>131.23</td>\n",
       "      <td>50884452</td>\n",
       "      <td>120.056069</td>\n",
       "      <td>121.134251</td>\n",
       "      <td>119.705890</td>\n",
       "      <td>120.931516</td>\n",
       "      <td>50884452</td>\n",
       "      <td>0.0</td>\n",
       "      <td>1.0</td>\n",
       "    </tr>\n",
       "    <tr>\n",
       "      <th>3</th>\n",
       "      <td>3</td>\n",
       "      <td>AAPL</td>\n",
       "      <td>2015-06-01 00:00:00+00:00</td>\n",
       "      <td>130.535</td>\n",
       "      <td>131.390</td>\n",
       "      <td>130.05</td>\n",
       "      <td>131.20</td>\n",
       "      <td>32112797</td>\n",
       "      <td>120.291057</td>\n",
       "      <td>121.078960</td>\n",
       "      <td>119.844118</td>\n",
       "      <td>120.903870</td>\n",
       "      <td>32112797</td>\n",
       "      <td>0.0</td>\n",
       "      <td>1.0</td>\n",
       "    </tr>\n",
       "    <tr>\n",
       "      <th>4</th>\n",
       "      <td>4</td>\n",
       "      <td>AAPL</td>\n",
       "      <td>2015-06-02 00:00:00+00:00</td>\n",
       "      <td>129.960</td>\n",
       "      <td>130.655</td>\n",
       "      <td>129.32</td>\n",
       "      <td>129.86</td>\n",
       "      <td>33667627</td>\n",
       "      <td>119.761181</td>\n",
       "      <td>120.401640</td>\n",
       "      <td>119.171406</td>\n",
       "      <td>119.669029</td>\n",
       "      <td>33667627</td>\n",
       "      <td>0.0</td>\n",
       "      <td>1.0</td>\n",
       "    </tr>\n",
       "  </tbody>\n",
       "</table>\n",
       "</div>"
      ],
      "text/plain": [
       "   Unnamed: 0 symbol                       date    close     high     low  \\\n",
       "0           0   AAPL  2015-05-27 00:00:00+00:00  132.045  132.260  130.05   \n",
       "1           1   AAPL  2015-05-28 00:00:00+00:00  131.780  131.950  131.10   \n",
       "2           2   AAPL  2015-05-29 00:00:00+00:00  130.280  131.450  129.90   \n",
       "3           3   AAPL  2015-06-01 00:00:00+00:00  130.535  131.390  130.05   \n",
       "4           4   AAPL  2015-06-02 00:00:00+00:00  129.960  130.655  129.32   \n",
       "\n",
       "     open    volume    adjClose     adjHigh      adjLow     adjOpen  \\\n",
       "0  130.34  45833246  121.682558  121.880685  119.844118  120.111360   \n",
       "1  131.86  30733309  121.438354  121.595013  120.811718  121.512076   \n",
       "2  131.23  50884452  120.056069  121.134251  119.705890  120.931516   \n",
       "3  131.20  32112797  120.291057  121.078960  119.844118  120.903870   \n",
       "4  129.86  33667627  119.761181  120.401640  119.171406  119.669029   \n",
       "\n",
       "   adjVolume  divCash  splitFactor  \n",
       "0   45833246      0.0          1.0  \n",
       "1   30733309      0.0          1.0  \n",
       "2   50884452      0.0          1.0  \n",
       "3   32112797      0.0          1.0  \n",
       "4   33667627      0.0          1.0  "
      ]
     },
     "execution_count": 3,
     "metadata": {},
     "output_type": "execute_result"
    }
   ],
   "source": [
    "df.head()"
   ]
  },
  {
   "cell_type": "code",
   "execution_count": 4,
   "id": "b64ab1af",
   "metadata": {},
   "outputs": [
    {
     "data": {
      "text/html": [
       "<div>\n",
       "<style scoped>\n",
       "    .dataframe tbody tr th:only-of-type {\n",
       "        vertical-align: middle;\n",
       "    }\n",
       "\n",
       "    .dataframe tbody tr th {\n",
       "        vertical-align: top;\n",
       "    }\n",
       "\n",
       "    .dataframe thead th {\n",
       "        text-align: right;\n",
       "    }\n",
       "</style>\n",
       "<table border=\"1\" class=\"dataframe\">\n",
       "  <thead>\n",
       "    <tr style=\"text-align: right;\">\n",
       "      <th></th>\n",
       "      <th>Unnamed: 0</th>\n",
       "      <th>symbol</th>\n",
       "      <th>date</th>\n",
       "      <th>close</th>\n",
       "      <th>high</th>\n",
       "      <th>low</th>\n",
       "      <th>open</th>\n",
       "      <th>volume</th>\n",
       "      <th>adjClose</th>\n",
       "      <th>adjHigh</th>\n",
       "      <th>adjLow</th>\n",
       "      <th>adjOpen</th>\n",
       "      <th>adjVolume</th>\n",
       "      <th>divCash</th>\n",
       "      <th>splitFactor</th>\n",
       "    </tr>\n",
       "  </thead>\n",
       "  <tbody>\n",
       "    <tr>\n",
       "      <th>1253</th>\n",
       "      <td>1253</td>\n",
       "      <td>AAPL</td>\n",
       "      <td>2020-05-18 00:00:00+00:00</td>\n",
       "      <td>314.96</td>\n",
       "      <td>316.50</td>\n",
       "      <td>310.3241</td>\n",
       "      <td>313.17</td>\n",
       "      <td>33843125</td>\n",
       "      <td>314.96</td>\n",
       "      <td>316.50</td>\n",
       "      <td>310.3241</td>\n",
       "      <td>313.17</td>\n",
       "      <td>33843125</td>\n",
       "      <td>0.0</td>\n",
       "      <td>1.0</td>\n",
       "    </tr>\n",
       "    <tr>\n",
       "      <th>1254</th>\n",
       "      <td>1254</td>\n",
       "      <td>AAPL</td>\n",
       "      <td>2020-05-19 00:00:00+00:00</td>\n",
       "      <td>313.14</td>\n",
       "      <td>318.52</td>\n",
       "      <td>313.0100</td>\n",
       "      <td>315.03</td>\n",
       "      <td>25432385</td>\n",
       "      <td>313.14</td>\n",
       "      <td>318.52</td>\n",
       "      <td>313.0100</td>\n",
       "      <td>315.03</td>\n",
       "      <td>25432385</td>\n",
       "      <td>0.0</td>\n",
       "      <td>1.0</td>\n",
       "    </tr>\n",
       "    <tr>\n",
       "      <th>1255</th>\n",
       "      <td>1255</td>\n",
       "      <td>AAPL</td>\n",
       "      <td>2020-05-20 00:00:00+00:00</td>\n",
       "      <td>319.23</td>\n",
       "      <td>319.52</td>\n",
       "      <td>316.2000</td>\n",
       "      <td>316.68</td>\n",
       "      <td>27876215</td>\n",
       "      <td>319.23</td>\n",
       "      <td>319.52</td>\n",
       "      <td>316.2000</td>\n",
       "      <td>316.68</td>\n",
       "      <td>27876215</td>\n",
       "      <td>0.0</td>\n",
       "      <td>1.0</td>\n",
       "    </tr>\n",
       "    <tr>\n",
       "      <th>1256</th>\n",
       "      <td>1256</td>\n",
       "      <td>AAPL</td>\n",
       "      <td>2020-05-21 00:00:00+00:00</td>\n",
       "      <td>316.85</td>\n",
       "      <td>320.89</td>\n",
       "      <td>315.8700</td>\n",
       "      <td>318.66</td>\n",
       "      <td>25672211</td>\n",
       "      <td>316.85</td>\n",
       "      <td>320.89</td>\n",
       "      <td>315.8700</td>\n",
       "      <td>318.66</td>\n",
       "      <td>25672211</td>\n",
       "      <td>0.0</td>\n",
       "      <td>1.0</td>\n",
       "    </tr>\n",
       "    <tr>\n",
       "      <th>1257</th>\n",
       "      <td>1257</td>\n",
       "      <td>AAPL</td>\n",
       "      <td>2020-05-22 00:00:00+00:00</td>\n",
       "      <td>318.89</td>\n",
       "      <td>319.23</td>\n",
       "      <td>315.3500</td>\n",
       "      <td>315.77</td>\n",
       "      <td>20450754</td>\n",
       "      <td>318.89</td>\n",
       "      <td>319.23</td>\n",
       "      <td>315.3500</td>\n",
       "      <td>315.77</td>\n",
       "      <td>20450754</td>\n",
       "      <td>0.0</td>\n",
       "      <td>1.0</td>\n",
       "    </tr>\n",
       "  </tbody>\n",
       "</table>\n",
       "</div>"
      ],
      "text/plain": [
       "      Unnamed: 0 symbol                       date   close    high       low  \\\n",
       "1253        1253   AAPL  2020-05-18 00:00:00+00:00  314.96  316.50  310.3241   \n",
       "1254        1254   AAPL  2020-05-19 00:00:00+00:00  313.14  318.52  313.0100   \n",
       "1255        1255   AAPL  2020-05-20 00:00:00+00:00  319.23  319.52  316.2000   \n",
       "1256        1256   AAPL  2020-05-21 00:00:00+00:00  316.85  320.89  315.8700   \n",
       "1257        1257   AAPL  2020-05-22 00:00:00+00:00  318.89  319.23  315.3500   \n",
       "\n",
       "        open    volume  adjClose  adjHigh    adjLow  adjOpen  adjVolume  \\\n",
       "1253  313.17  33843125    314.96   316.50  310.3241   313.17   33843125   \n",
       "1254  315.03  25432385    313.14   318.52  313.0100   315.03   25432385   \n",
       "1255  316.68  27876215    319.23   319.52  316.2000   316.68   27876215   \n",
       "1256  318.66  25672211    316.85   320.89  315.8700   318.66   25672211   \n",
       "1257  315.77  20450754    318.89   319.23  315.3500   315.77   20450754   \n",
       "\n",
       "      divCash  splitFactor  \n",
       "1253      0.0          1.0  \n",
       "1254      0.0          1.0  \n",
       "1255      0.0          1.0  \n",
       "1256      0.0          1.0  \n",
       "1257      0.0          1.0  "
      ]
     },
     "execution_count": 4,
     "metadata": {},
     "output_type": "execute_result"
    }
   ],
   "source": [
    "df.tail()"
   ]
  },
  {
   "cell_type": "code",
   "execution_count": 5,
   "id": "da90bb42",
   "metadata": {},
   "outputs": [],
   "source": [
    "df1 = df.reset_index()['close']"
   ]
  },
  {
   "cell_type": "code",
   "execution_count": 6,
   "id": "52a1fbed",
   "metadata": {},
   "outputs": [
    {
     "data": {
      "text/plain": [
       "0       132.045\n",
       "1       131.780\n",
       "2       130.280\n",
       "3       130.535\n",
       "4       129.960\n",
       "         ...   \n",
       "1253    314.960\n",
       "1254    313.140\n",
       "1255    319.230\n",
       "1256    316.850\n",
       "1257    318.890\n",
       "Name: close, Length: 1258, dtype: float64"
      ]
     },
     "execution_count": 6,
     "metadata": {},
     "output_type": "execute_result"
    }
   ],
   "source": [
    "df1"
   ]
  },
  {
   "cell_type": "code",
   "execution_count": 7,
   "id": "97dd5b33",
   "metadata": {},
   "outputs": [
    {
     "data": {
      "text/plain": [
       "[<matplotlib.lines.Line2D at 0x2472c71c700>]"
      ]
     },
     "execution_count": 7,
     "metadata": {},
     "output_type": "execute_result"
    },
    {
     "data": {
      "image/png": "[encoded data removed]",
      "text/plain": [
       "<Figure size 432x288 with 1 Axes>"
      ]
     },
     "metadata": {
      "needs_background": "light"
     },
     "output_type": "display_data"
    }
   ],
   "source": [
    "import matplotlib.pyplot as plt \n",
    "plt.plot(df1)"
   ]
  },
  {
   "cell_type": "code",
   "execution_count": 8,
   "id": "77a5c516",
   "metadata": {},
   "outputs": [],
   "source": [
    "import numpy as np "
   ]
  },
  {
   "cell_type": "code",
   "execution_count": 10,
   "id": "3d24b50d",
   "metadata": {},
   "outputs": [],
   "source": [
    "from sklearn.preprocessing import MinMaxScaler \n",
    "scaler = MinMaxScaler(feature_range = (0,1))\n",
    "df1 = scaler.fit_transform(np.array(df1).reshape(-1,1))"
   ]
  },
  {
   "cell_type": "code",
   "execution_count": 11,
   "id": "60b5b92c",
   "metadata": {},
   "outputs": [
    {
     "name": "stdout",
     "output_type": "stream",
     "text": [
      "[[0.17607447]\n",
      " [0.17495567]\n",
      " [0.16862282]\n",
      " ...\n",
      " [0.96635143]\n",
      " [0.9563033 ]\n",
      " [0.96491598]]\n"
     ]
    }
   ],
   "source": [
    "print(df1)"
   ]
  },
  {
   "cell_type": "code",
   "execution_count": 12,
   "id": "540df5c5",
   "metadata": {},
   "outputs": [],
   "source": [
    "# splitting dataset into train and test split \n",
    "training_size = int(len(df1)*0.65)\n",
    "test_size = len(df1) -training_size \n",
    "train_data, test_data = df1[0:training_size,:], df1[training_size:len(df1),:1]"
   ]
  },
  {
   "cell_type": "code",
   "execution_count": 14,
   "id": "fe0473c8",
   "metadata": {},
   "outputs": [
    {
     "data": {
      "text/plain": [
       "(817, 1)"
      ]
     },
     "execution_count": 14,
     "metadata": {},
     "output_type": "execute_result"
    }
   ],
   "source": [
    "train_data.shape"
   ]
  },
  {
   "cell_type": "code",
   "execution_count": 15,
   "id": "2284b1c2",
   "metadata": {},
   "outputs": [
    {
     "data": {
      "text/plain": [
       "(441, 1)"
      ]
     },
     "execution_count": 15,
     "metadata": {},
     "output_type": "execute_result"
    }
   ],
   "source": [
    "test_data.shape"
   ]
  },
  {
   "cell_type": "code",
   "execution_count": 38,
   "id": "eb998a50",
   "metadata": {},
   "outputs": [],
   "source": [
    "import numpy as np \n",
    "\n",
    "def create_dataset(dataset, time_step = 1):\n",
    "    dataX, dataY = [], []\n",
    "    for i in range(len(dataset)-time_step):\n",
    "        end_idx = i+time_step \n",
    "        \n",
    "        a = dataset[i:end_idx, 0]\n",
    "        b = dataset[end_idx, 0]\n",
    "        dataX.append(a)\n",
    "        dataY.append(b)\n",
    "        \n",
    "    return np.array(dataX), np.array(dataY)\n",
    "        "
   ]
  },
  {
   "cell_type": "code",
   "execution_count": 39,
   "id": "d0b23656",
   "metadata": {},
   "outputs": [],
   "source": [
    "# reshape into \n",
    "time_step = 100 \n",
    "X_train, y_train = create_dataset(train_data, time_step)\n",
    "X_test, y_test = create_dataset(test_data, time_step)\n"
   ]
  },
  {
   "cell_type": "code",
   "execution_count": 41,
   "id": "79668d0f",
   "metadata": {},
   "outputs": [],
   "source": [
    "# reshape input to be [samples, time steps, features] which is required for LSTM\n",
    "X_train =X_train.reshape(X_train.shape[0],X_train.shape[1] , 1)\n",
    "X_test = X_test.reshape(X_test.shape[0],X_test.shape[1] , 1)"
   ]
  },
  {
   "cell_type": "code",
   "execution_count": 40,
   "id": "d476e9d1",
   "metadata": {},
   "outputs": [],
   "source": [
    "from tensorflow.keras.models import Sequential \n",
    "from tensorflow.keras.layers import Dense\n",
    "from tensorflow.keras.layers import LSTM "
   ]
  },
  {
   "cell_type": "code",
   "execution_count": 57,
   "id": "4a3f5643",
   "metadata": {},
   "outputs": [],
   "source": [
    "model = Sequential()\n",
    "model.add(LSTM(50, return_sequences = True, input_shape = (100,1)))\n",
    "model.add(LSTM(50, return_sequences = True))\n",
    "model.add(LSTM(50))\n",
    "model.add(Dense(1))\n",
    "model.compile(loss = 'mean_squared_error', optimizer = 'adam', metrics= ['Accuracy'])"
   ]
  },
  {
   "cell_type": "code",
   "execution_count": 58,
   "id": "89c188a8",
   "metadata": {},
   "outputs": [
    {
     "name": "stdout",
     "output_type": "stream",
     "text": [
      "Model: \"sequential_4\"\n",
      "_________________________________________________________________\n",
      " Layer (type)                Output Shape              Param #   \n",
      "=================================================================\n",
      " lstm_9 (LSTM)               (None, 100, 50)           10400     \n",
      "                                                                 \n",
      " lstm_10 (LSTM)              (None, 100, 50)           20200     \n",
      "                                                                 \n",
      " lstm_11 (LSTM)              (None, 50)                20200     \n",
      "                                                                 \n",
      " dense_3 (Dense)             (None, 1)                 51        \n",
      "                                                                 \n",
      "=================================================================\n",
      "Total params: 50,851\n",
      "Trainable params: 50,851\n",
      "Non-trainable params: 0\n",
      "_________________________________________________________________\n"
     ]
    }
   ],
   "source": [
    "model.summary()"
   ]
  },
  {
   "cell_type": "code",
   "execution_count": 59,
   "id": "c93d5c4e",
   "metadata": {},
   "outputs": [
    {
     "name": "stdout",
     "output_type": "stream",
     "text": [
      "Epoch 1/100\n",
      "23/23 [==============================] - 8s 169ms/step - loss: 0.0097 - Accuracy: 0.0014 - val_loss: 0.0048 - val_Accuracy: 0.0029\n",
      "Epoch 2/100\n",
      "23/23 [==============================] - 3s 119ms/step - loss: 9.1058e-04 - Accuracy: 0.0014 - val_loss: 0.0042 - val_Accuracy: 0.0029\n",
      "Epoch 3/100\n",
      "23/23 [==============================] - 3s 120ms/step - loss: 6.5341e-04 - Accuracy: 0.0014 - val_loss: 0.0044 - val_Accuracy: 0.0029\n",
      "Epoch 4/100\n",
      "23/23 [==============================] - 3s 121ms/step - loss: 6.4878e-04 - Accuracy: 0.0014 - val_loss: 0.0041 - val_Accuracy: 0.0029\n",
      "Epoch 5/100\n",
      "23/23 [==============================] - 3s 122ms/step - loss: 5.9433e-04 - Accuracy: 0.0014 - val_loss: 0.0040 - val_Accuracy: 0.0029\n",
      "Epoch 6/100\n",
      "23/23 [==============================] - 3s 119ms/step - loss: 5.8667e-04 - Accuracy: 0.0014 - val_loss: 0.0034 - val_Accuracy: 0.0029\n",
      "Epoch 7/100\n",
      "23/23 [==============================] - 3s 120ms/step - loss: 7.7918e-04 - Accuracy: 0.0014 - val_loss: 0.0048 - val_Accuracy: 0.0029\n",
      "Epoch 8/100\n",
      "23/23 [==============================] - 3s 119ms/step - loss: 7.0528e-04 - Accuracy: 0.0014 - val_loss: 0.0038 - val_Accuracy: 0.0029\n",
      "Epoch 9/100\n",
      "23/23 [==============================] - 3s 117ms/step - loss: 5.3322e-04 - Accuracy: 0.0014 - val_loss: 0.0032 - val_Accuracy: 0.0029\n",
      "Epoch 10/100\n",
      "23/23 [==============================] - 3s 118ms/step - loss: 5.8102e-04 - Accuracy: 0.0014 - val_loss: 0.0031 - val_Accuracy: 0.0029\n",
      "Epoch 11/100\n",
      "23/23 [==============================] - 3s 116ms/step - loss: 5.7685e-04 - Accuracy: 0.0014 - val_loss: 0.0033 - val_Accuracy: 0.0029\n",
      "Epoch 12/100\n",
      "23/23 [==============================] - 3s 117ms/step - loss: 5.4275e-04 - Accuracy: 0.0014 - val_loss: 0.0042 - val_Accuracy: 0.0029\n",
      "Epoch 13/100\n",
      "23/23 [==============================] - 3s 116ms/step - loss: 5.3589e-04 - Accuracy: 0.0014 - val_loss: 0.0024 - val_Accuracy: 0.0029\n",
      "Epoch 14/100\n",
      "23/23 [==============================] - 3s 116ms/step - loss: 4.7864e-04 - Accuracy: 0.0014 - val_loss: 0.0023 - val_Accuracy: 0.0029\n",
      "Epoch 15/100\n",
      "23/23 [==============================] - 3s 116ms/step - loss: 4.4529e-04 - Accuracy: 0.0014 - val_loss: 0.0021 - val_Accuracy: 0.0029\n",
      "Epoch 16/100\n",
      "23/23 [==============================] - 3s 116ms/step - loss: 4.6901e-04 - Accuracy: 0.0014 - val_loss: 0.0022 - val_Accuracy: 0.0029\n",
      "Epoch 17/100\n",
      "23/23 [==============================] - 3s 117ms/step - loss: 4.5498e-04 - Accuracy: 0.0014 - val_loss: 0.0028 - val_Accuracy: 0.0029\n",
      "Epoch 18/100\n",
      "23/23 [==============================] - 3s 115ms/step - loss: 4.3738e-04 - Accuracy: 0.0014 - val_loss: 0.0019 - val_Accuracy: 0.0029\n",
      "Epoch 19/100\n",
      "23/23 [==============================] - 3s 116ms/step - loss: 3.9684e-04 - Accuracy: 0.0014 - val_loss: 0.0019 - val_Accuracy: 0.0029\n",
      "Epoch 20/100\n",
      "23/23 [==============================] - 3s 118ms/step - loss: 4.2696e-04 - Accuracy: 0.0014 - val_loss: 0.0019 - val_Accuracy: 0.0029\n",
      "Epoch 21/100\n",
      "23/23 [==============================] - 3s 117ms/step - loss: 4.0380e-04 - Accuracy: 0.0014 - val_loss: 0.0017 - val_Accuracy: 0.0029\n",
      "Epoch 22/100\n",
      "23/23 [==============================] - 3s 121ms/step - loss: 3.9352e-04 - Accuracy: 0.0014 - val_loss: 0.0017 - val_Accuracy: 0.0029\n",
      "Epoch 23/100\n",
      "23/23 [==============================] - 3s 120ms/step - loss: 3.8204e-04 - Accuracy: 0.0014 - val_loss: 0.0015 - val_Accuracy: 0.0029\n",
      "Epoch 24/100\n",
      "23/23 [==============================] - 3s 119ms/step - loss: 3.6831e-04 - Accuracy: 0.0014 - val_loss: 0.0014 - val_Accuracy: 0.0029\n",
      "Epoch 25/100\n",
      "23/23 [==============================] - 3s 117ms/step - loss: 4.2304e-04 - Accuracy: 0.0014 - val_loss: 0.0016 - val_Accuracy: 0.0029\n",
      "Epoch 26/100\n",
      "23/23 [==============================] - 3s 116ms/step - loss: 3.9740e-04 - Accuracy: 0.0014 - val_loss: 0.0024 - val_Accuracy: 0.0029\n",
      "Epoch 27/100\n",
      "23/23 [==============================] - 3s 117ms/step - loss: 3.3827e-04 - Accuracy: 0.0014 - val_loss: 0.0014 - val_Accuracy: 0.0029\n",
      "Epoch 28/100\n",
      "23/23 [==============================] - 3s 116ms/step - loss: 3.0950e-04 - Accuracy: 0.0014 - val_loss: 0.0013 - val_Accuracy: 0.0029\n",
      "Epoch 29/100\n",
      "23/23 [==============================] - 3s 120ms/step - loss: 3.3341e-04 - Accuracy: 0.0014 - val_loss: 0.0026 - val_Accuracy: 0.0029\n",
      "Epoch 30/100\n",
      "23/23 [==============================] - 3s 118ms/step - loss: 3.7620e-04 - Accuracy: 0.0014 - val_loss: 0.0013 - val_Accuracy: 0.0029\n",
      "Epoch 31/100\n",
      "23/23 [==============================] - 3s 119ms/step - loss: 3.1102e-04 - Accuracy: 0.0014 - val_loss: 0.0022 - val_Accuracy: 0.0029\n",
      "Epoch 32/100\n",
      "23/23 [==============================] - 3s 120ms/step - loss: 3.0194e-04 - Accuracy: 0.0014 - val_loss: 0.0013 - val_Accuracy: 0.0029\n",
      "Epoch 33/100\n",
      "23/23 [==============================] - 3s 119ms/step - loss: 3.3219e-04 - Accuracy: 0.0014 - val_loss: 0.0014 - val_Accuracy: 0.0029\n",
      "Epoch 34/100\n",
      "23/23 [==============================] - 3s 120ms/step - loss: 2.9572e-04 - Accuracy: 0.0014 - val_loss: 0.0026 - val_Accuracy: 0.0029\n",
      "Epoch 35/100\n",
      "23/23 [==============================] - 3s 121ms/step - loss: 3.2104e-04 - Accuracy: 0.0014 - val_loss: 0.0017 - val_Accuracy: 0.0029\n",
      "Epoch 36/100\n",
      "23/23 [==============================] - 3s 128ms/step - loss: 2.6483e-04 - Accuracy: 0.0014 - val_loss: 0.0013 - val_Accuracy: 0.0029\n",
      "Epoch 37/100\n",
      "23/23 [==============================] - 3s 140ms/step - loss: 2.8752e-04 - Accuracy: 0.0014 - val_loss: 0.0014 - val_Accuracy: 0.0029\n",
      "Epoch 38/100\n",
      "23/23 [==============================] - 3s 125ms/step - loss: 2.6962e-04 - Accuracy: 0.0014 - val_loss: 0.0012 - val_Accuracy: 0.0029\n",
      "Epoch 39/100\n",
      "23/23 [==============================] - 3s 131ms/step - loss: 2.6619e-04 - Accuracy: 0.0014 - val_loss: 0.0011 - val_Accuracy: 0.0029\n",
      "Epoch 40/100\n",
      "23/23 [==============================] - 3s 125ms/step - loss: 2.5138e-04 - Accuracy: 0.0014 - val_loss: 0.0012 - val_Accuracy: 0.0029\n",
      "Epoch 41/100\n",
      "23/23 [==============================] - 3s 137ms/step - loss: 2.3406e-04 - Accuracy: 0.0014 - val_loss: 0.0013 - val_Accuracy: 0.0029\n",
      "Epoch 42/100\n",
      "23/23 [==============================] - 3s 151ms/step - loss: 2.2034e-04 - Accuracy: 0.0014 - val_loss: 0.0011 - val_Accuracy: 0.0029\n",
      "Epoch 43/100\n",
      "23/23 [==============================] - 3s 137ms/step - loss: 2.2838e-04 - Accuracy: 0.0014 - val_loss: 0.0011 - val_Accuracy: 0.0029\n",
      "Epoch 44/100\n",
      "23/23 [==============================] - 3s 132ms/step - loss: 2.1423e-04 - Accuracy: 0.0014 - val_loss: 0.0011 - val_Accuracy: 0.0029\n",
      "Epoch 45/100\n",
      "23/23 [==============================] - 3s 134ms/step - loss: 2.1039e-04 - Accuracy: 0.0014 - val_loss: 0.0010 - val_Accuracy: 0.0029\n",
      "Epoch 46/100\n",
      "23/23 [==============================] - 3s 122ms/step - loss: 2.1028e-04 - Accuracy: 0.0014 - val_loss: 0.0014 - val_Accuracy: 0.0029\n",
      "Epoch 47/100\n",
      "23/23 [==============================] - 3s 120ms/step - loss: 2.0508e-04 - Accuracy: 0.0014 - val_loss: 0.0014 - val_Accuracy: 0.0029\n",
      "Epoch 48/100\n",
      "23/23 [==============================] - 3s 140ms/step - loss: 1.9786e-04 - Accuracy: 0.0014 - val_loss: 0.0015 - val_Accuracy: 0.0029\n",
      "Epoch 49/100\n",
      "23/23 [==============================] - 3s 129ms/step - loss: 1.9308e-04 - Accuracy: 0.0014 - val_loss: 9.2032e-04 - val_Accuracy: 0.0029\n",
      "Epoch 50/100\n",
      "23/23 [==============================] - 3s 118ms/step - loss: 2.1577e-04 - Accuracy: 0.0014 - val_loss: 9.2718e-04 - val_Accuracy: 0.0029\n",
      "Epoch 51/100\n",
      "23/23 [==============================] - 3s 124ms/step - loss: 1.7187e-04 - Accuracy: 0.0014 - val_loss: 8.6195e-04 - val_Accuracy: 0.0029\n",
      "Epoch 52/100\n",
      "23/23 [==============================] - 3s 121ms/step - loss: 1.7060e-04 - Accuracy: 0.0014 - val_loss: 8.9499e-04 - val_Accuracy: 0.0029\n",
      "Epoch 53/100\n",
      "23/23 [==============================] - 3s 120ms/step - loss: 1.6184e-04 - Accuracy: 0.0014 - val_loss: 8.3368e-04 - val_Accuracy: 0.0029\n",
      "Epoch 54/100\n",
      "23/23 [==============================] - 3s 118ms/step - loss: 1.6950e-04 - Accuracy: 0.0014 - val_loss: 8.2687e-04 - val_Accuracy: 0.0029\n",
      "Epoch 55/100\n",
      "23/23 [==============================] - 3s 119ms/step - loss: 1.6535e-04 - Accuracy: 0.0014 - val_loss: 0.0013 - val_Accuracy: 0.0029\n",
      "Epoch 56/100\n"
     ]
    },
    {
     "name": "stdout",
     "output_type": "stream",
     "text": [
      "23/23 [==============================] - 3s 118ms/step - loss: 2.0795e-04 - Accuracy: 0.0014 - val_loss: 0.0014 - val_Accuracy: 0.0029\n",
      "Epoch 57/100\n",
      "23/23 [==============================] - 3s 120ms/step - loss: 1.5517e-04 - Accuracy: 0.0014 - val_loss: 8.2004e-04 - val_Accuracy: 0.0029\n",
      "Epoch 58/100\n",
      "23/23 [==============================] - 3s 135ms/step - loss: 1.5930e-04 - Accuracy: 0.0014 - val_loss: 9.4988e-04 - val_Accuracy: 0.0029\n",
      "Epoch 59/100\n",
      "23/23 [==============================] - 3s 128ms/step - loss: 1.4698e-04 - Accuracy: 0.0014 - val_loss: 8.8994e-04 - val_Accuracy: 0.0029\n",
      "Epoch 60/100\n",
      "23/23 [==============================] - 3s 127ms/step - loss: 1.5523e-04 - Accuracy: 0.0014 - val_loss: 8.4083e-04 - val_Accuracy: 0.0029\n",
      "Epoch 61/100\n",
      "23/23 [==============================] - 3s 139ms/step - loss: 1.4532e-04 - Accuracy: 0.0014 - val_loss: 0.0011 - val_Accuracy: 0.0029\n",
      "Epoch 62/100\n",
      "23/23 [==============================] - 3s 135ms/step - loss: 1.8709e-04 - Accuracy: 0.0014 - val_loss: 0.0011 - val_Accuracy: 0.0029\n",
      "Epoch 63/100\n",
      "23/23 [==============================] - 4s 156ms/step - loss: 1.5575e-04 - Accuracy: 0.0014 - val_loss: 7.0863e-04 - val_Accuracy: 0.0029\n",
      "Epoch 64/100\n",
      "23/23 [==============================] - 3s 132ms/step - loss: 1.5897e-04 - Accuracy: 0.0014 - val_loss: 9.3835e-04 - val_Accuracy: 0.0029\n",
      "Epoch 65/100\n",
      "23/23 [==============================] - 3s 139ms/step - loss: 1.9909e-04 - Accuracy: 0.0014 - val_loss: 9.2359e-04 - val_Accuracy: 0.0029\n",
      "Epoch 66/100\n",
      "23/23 [==============================] - 3s 149ms/step - loss: 1.3359e-04 - Accuracy: 0.0014 - val_loss: 6.7899e-04 - val_Accuracy: 0.0029\n",
      "Epoch 67/100\n",
      "23/23 [==============================] - 3s 121ms/step - loss: 1.3548e-04 - Accuracy: 0.0014 - val_loss: 6.7315e-04 - val_Accuracy: 0.0029\n",
      "Epoch 68/100\n",
      "23/23 [==============================] - 3s 127ms/step - loss: 1.4523e-04 - Accuracy: 0.0014 - val_loss: 7.3555e-04 - val_Accuracy: 0.0029\n",
      "Epoch 69/100\n",
      "23/23 [==============================] - 3s 129ms/step - loss: 1.2321e-04 - Accuracy: 0.0014 - val_loss: 6.4795e-04 - val_Accuracy: 0.0029\n",
      "Epoch 70/100\n",
      "23/23 [==============================] - 3s 133ms/step - loss: 1.3807e-04 - Accuracy: 0.0014 - val_loss: 7.2615e-04 - val_Accuracy: 0.0029\n",
      "Epoch 71/100\n",
      "23/23 [==============================] - 3s 120ms/step - loss: 1.2589e-04 - Accuracy: 0.0014 - val_loss: 8.5519e-04 - val_Accuracy: 0.0029\n",
      "Epoch 72/100\n",
      "23/23 [==============================] - 3s 122ms/step - loss: 1.3249e-04 - Accuracy: 0.0014 - val_loss: 7.4477e-04 - val_Accuracy: 0.0029\n",
      "Epoch 73/100\n",
      "23/23 [==============================] - 3s 130ms/step - loss: 1.2341e-04 - Accuracy: 0.0014 - val_loss: 6.4025e-04 - val_Accuracy: 0.0029\n",
      "Epoch 74/100\n",
      "23/23 [==============================] - 3s 133ms/step - loss: 1.2627e-04 - Accuracy: 0.0014 - val_loss: 6.5429e-04 - val_Accuracy: 0.0029\n",
      "Epoch 75/100\n",
      "23/23 [==============================] - 4s 163ms/step - loss: 1.2552e-04 - Accuracy: 0.0014 - val_loss: 8.5941e-04 - val_Accuracy: 0.0029\n",
      "Epoch 76/100\n",
      "23/23 [==============================] - 4s 154ms/step - loss: 1.3231e-04 - Accuracy: 0.0014 - val_loss: 8.7422e-04 - val_Accuracy: 0.0029\n",
      "Epoch 77/100\n",
      "23/23 [==============================] - 3s 137ms/step - loss: 1.3495e-04 - Accuracy: 0.0014 - val_loss: 8.3152e-04 - val_Accuracy: 0.0029\n",
      "Epoch 78/100\n",
      "23/23 [==============================] - 3s 122ms/step - loss: 1.1788e-04 - Accuracy: 0.0014 - val_loss: 6.3086e-04 - val_Accuracy: 0.0029\n",
      "Epoch 79/100\n",
      "23/23 [==============================] - 3s 126ms/step - loss: 1.1313e-04 - Accuracy: 0.0014 - val_loss: 6.3263e-04 - val_Accuracy: 0.0029\n",
      "Epoch 80/100\n",
      "23/23 [==============================] - 3s 128ms/step - loss: 1.1320e-04 - Accuracy: 0.0014 - val_loss: 6.7718e-04 - val_Accuracy: 0.0029\n",
      "Epoch 81/100\n",
      "23/23 [==============================] - 3s 137ms/step - loss: 1.1593e-04 - Accuracy: 0.0014 - val_loss: 6.3791e-04 - val_Accuracy: 0.0029\n",
      "Epoch 82/100\n",
      "23/23 [==============================] - 3s 130ms/step - loss: 1.0749e-04 - Accuracy: 0.0014 - val_loss: 7.8114e-04 - val_Accuracy: 0.0029\n",
      "Epoch 83/100\n",
      "23/23 [==============================] - 3s 128ms/step - loss: 1.0191e-04 - Accuracy: 0.0014 - val_loss: 6.4137e-04 - val_Accuracy: 0.0029\n",
      "Epoch 84/100\n",
      "23/23 [==============================] - 3s 132ms/step - loss: 1.2815e-04 - Accuracy: 0.0014 - val_loss: 6.3628e-04 - val_Accuracy: 0.0029\n",
      "Epoch 85/100\n",
      "23/23 [==============================] - 3s 131ms/step - loss: 1.0066e-04 - Accuracy: 0.0014 - val_loss: 7.2036e-04 - val_Accuracy: 0.0029\n",
      "Epoch 86/100\n",
      "23/23 [==============================] - 3s 139ms/step - loss: 1.1212e-04 - Accuracy: 0.0014 - val_loss: 7.4410e-04 - val_Accuracy: 0.0029\n",
      "Epoch 87/100\n",
      "23/23 [==============================] - 3s 148ms/step - loss: 1.0304e-04 - Accuracy: 0.0014 - val_loss: 6.5050e-04 - val_Accuracy: 0.0029\n",
      "Epoch 88/100\n",
      "23/23 [==============================] - 3s 152ms/step - loss: 9.6697e-05 - Accuracy: 0.0014 - val_loss: 7.0576e-04 - val_Accuracy: 0.0029\n",
      "Epoch 89/100\n",
      "23/23 [==============================] - 3s 134ms/step - loss: 9.6502e-05 - Accuracy: 0.0014 - val_loss: 7.9357e-04 - val_Accuracy: 0.0029\n",
      "Epoch 90/100\n",
      "23/23 [==============================] - 3s 130ms/step - loss: 9.9623e-05 - Accuracy: 0.0014 - val_loss: 7.2238e-04 - val_Accuracy: 0.0029\n",
      "Epoch 91/100\n",
      "23/23 [==============================] - 3s 126ms/step - loss: 9.3465e-05 - Accuracy: 0.0014 - val_loss: 6.8486e-04 - val_Accuracy: 0.0029\n",
      "Epoch 92/100\n",
      "23/23 [==============================] - 3s 121ms/step - loss: 9.7045e-05 - Accuracy: 0.0014 - val_loss: 6.8172e-04 - val_Accuracy: 0.0029\n",
      "Epoch 93/100\n",
      "23/23 [==============================] - 3s 121ms/step - loss: 1.0638e-04 - Accuracy: 0.0014 - val_loss: 7.0021e-04 - val_Accuracy: 0.0029\n",
      "Epoch 94/100\n",
      "23/23 [==============================] - 3s 122ms/step - loss: 1.1420e-04 - Accuracy: 0.0014 - val_loss: 6.9798e-04 - val_Accuracy: 0.0029\n",
      "Epoch 95/100\n",
      "23/23 [==============================] - 3s 121ms/step - loss: 9.2073e-05 - Accuracy: 0.0014 - val_loss: 7.0820e-04 - val_Accuracy: 0.0029\n",
      "Epoch 96/100\n",
      "23/23 [==============================] - 3s 120ms/step - loss: 9.0532e-05 - Accuracy: 0.0014 - val_loss: 7.8948e-04 - val_Accuracy: 0.0029\n",
      "Epoch 97/100\n",
      "23/23 [==============================] - 3s 120ms/step - loss: 9.8612e-05 - Accuracy: 0.0014 - val_loss: 9.2429e-04 - val_Accuracy: 0.0029\n",
      "Epoch 98/100\n",
      "23/23 [==============================] - 3s 125ms/step - loss: 9.4771e-05 - Accuracy: 0.0014 - val_loss: 9.0403e-04 - val_Accuracy: 0.0029\n",
      "Epoch 99/100\n",
      "23/23 [==============================] - 3s 120ms/step - loss: 9.6639e-05 - Accuracy: 0.0014 - val_loss: 7.6876e-04 - val_Accuracy: 0.0029\n",
      "Epoch 100/100\n",
      "23/23 [==============================] - 3s 123ms/step - loss: 1.0673e-04 - Accuracy: 0.0014 - val_loss: 8.2759e-04 - val_Accuracy: 0.0029\n"
     ]
    },
    {
     "data": {
      "text/plain": [
       "<keras.callbacks.History at 0x24764dcdee0>"
      ]
     },
     "execution_count": 59,
     "metadata": {},
     "output_type": "execute_result"
    }
   ],
   "source": [
    "model.fit(X_train, y_train, validation_data = (X_test, y_test), epochs = 100,batch_size = 32,  verbose = 1)"
   ]
  },
  {
   "cell_type": "code",
   "execution_count": 71,
   "id": "6474b63d",
   "metadata": {},
   "outputs": [],
   "source": [
    "train_predict = model.predict(X_train)\n",
    "test_predict = model.predict(X_test)"
   ]
  },
  {
   "cell_type": "code",
   "execution_count": 72,
   "id": "86f14e47",
   "metadata": {},
   "outputs": [
    {
     "data": {
      "text/plain": [
       "(341, 100, 1)"
      ]
     },
     "execution_count": 72,
     "metadata": {},
     "output_type": "execute_result"
    }
   ],
   "source": [
    "X_test.shape"
   ]
  },
  {
   "cell_type": "code",
   "execution_count": 73,
   "id": "287999f6",
   "metadata": {},
   "outputs": [],
   "source": [
    "train_predict = scaler.inverse_transform(train_predict)\n",
    "test_predict = scaler.inverse_transform(test_predict)"
   ]
  },
  {
   "cell_type": "code",
   "execution_count": 74,
   "id": "29cf0491",
   "metadata": {},
   "outputs": [
    {
     "data": {
      "text/plain": [
       "142.3677548049865"
      ]
     },
     "execution_count": 74,
     "metadata": {},
     "output_type": "execute_result"
    }
   ],
   "source": [
    "### Calculate RMSE performance metrics\n",
    "import math\n",
    "from sklearn.metrics import mean_squared_error\n",
    "math.sqrt(mean_squared_error(y_train,train_predict))"
   ]
  },
  {
   "cell_type": "code",
   "execution_count": 75,
   "id": "c90b3757",
   "metadata": {},
   "outputs": [
    {
     "data": {
      "text/plain": [
       "237.03390043827875"
      ]
     },
     "execution_count": 75,
     "metadata": {},
     "output_type": "execute_result"
    }
   ],
   "source": [
    "### Test Data RMSE\n",
    "math.sqrt(mean_squared_error(y_test,test_predict))"
   ]
  },
  {
   "cell_type": "code",
   "execution_count": 76,
   "id": "2ec43d85",
   "metadata": {},
   "outputs": [
    {
     "data": {
      "image/png": "[encoded data removed]",
      "text/plain": [
       "<Figure size 432x288 with 1 Axes>"
      ]
     },
     "metadata": {
      "needs_background": "light"
     },
     "output_type": "display_data"
    }
   ],
   "source": [
    "### Plotting \n",
    "# shift train predictions for plotting\n",
    "look_back=100\n",
    "trainPredictPlot = np.empty_like(df1)\n",
    "trainPredictPlot[:, :] = np.nan\n",
    "trainPredictPlot[look_back:len(train_predict)+look_back, :] = train_predict\n",
    "# shift test predictions for plotting\n",
    "testPredictPlot = np.empty_like(df1)\n",
    "testPredictPlot[:, :] = np.nan\n",
    "testPredictPlot[len(train_predict)+(look_back*2):len(df1), :] = test_predict\n",
    "# plot baseline and predictions\n",
    "plt.plot(scaler.inverse_transform(df1))\n",
    "plt.plot(trainPredictPlot)\n",
    "plt.plot(testPredictPlot)\n",
    "plt.show()"
   ]
  }
 ],
 "metadata": {
  "kernelspec": {
   "display_name": "Python 3 (ipykernel)",
   "language": "python",
   "name": "python3"
  },
  "language_info": {
   "codemirror_mode": {
    "name": "ipython",
    "version": 3
   },
   "file_extension": ".py",
   "mimetype": "text/x-python",
   "name": "python",
   "nbconvert_exporter": "python",
   "pygments_lexer": "ipython3",
   "version": "3.9.10"
  }
 },
 "nbformat": 4,
 "nbformat_minor": 5
}
