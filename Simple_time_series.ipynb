{
 "cells": [
  {
   "cell_type": "code",
   "execution_count": 4,
   "id": "c54e5261",
   "metadata": {},
   "outputs": [],
   "source": [
    "import numpy as np \n",
    "from tensorflow.keras.models import Sequential \n",
    "from tensorflow.keras.layers import LSTM \n",
    "from tensorflow.keras.layers import Dense \n",
    "from tensorflow.keras.layers import Flatten\n",
    "\n",
    "import matplotlib.pyplot as plt \n",
    "import tensorflow as tf "
   ]
  },
  {
   "cell_type": "code",
   "execution_count": 5,
   "id": "8ff06893",
   "metadata": {},
   "outputs": [
    {
     "data": {
      "text/plain": [
       "False"
      ]
     },
     "execution_count": 5,
     "metadata": {},
     "output_type": "execute_result"
    }
   ],
   "source": [
    "tf.test.is_gpu_available()"
   ]
  },
  {
   "cell_type": "code",
   "execution_count": 6,
   "id": "3663572c",
   "metadata": {},
   "outputs": [],
   "source": [
    "# preparing independent and dependent features \n",
    "def prepare_data(timeSeriesData,n_features):\n",
    "    X, y = [], []\n",
    "    \n",
    "    for i in range(len(timeSeriesData)):\n",
    "        end_idx = i+ n_features\n",
    "        \n",
    "        if end_idx >= len(timeSeriesData):\n",
    "            break \n",
    "        seq_x, seq_y = timeSeriesData[i:end_idx], timeSeriesData[end_idx]\n",
    "        \n",
    "        X.append(seq_x)\n",
    "        y.append(seq_y)\n",
    "        \n",
    "    return np.array(X), np.array(y)"
   ]
  },
  {
   "cell_type": "code",
   "execution_count": 7,
   "id": "f306976a",
   "metadata": {},
   "outputs": [],
   "source": [
    "# define input sequence\n",
    "timeseries_data = [110, 125, 133, 146, 158, 172, 187, 196, 210]\n",
    "# choose a number of time steps\n",
    "n_steps = 3\n",
    "# split into samples\n",
    "X, y = prepare_data(timeseries_data, n_steps)"
   ]
  },
  {
   "cell_type": "code",
   "execution_count": 8,
   "id": "12f481f3",
   "metadata": {},
   "outputs": [
    {
     "name": "stdout",
     "output_type": "stream",
     "text": [
      "[[110 125 133]\n",
      " [125 133 146]\n",
      " [133 146 158]\n",
      " [146 158 172]\n",
      " [158 172 187]\n",
      " [172 187 196]]\n",
      "[146 158 172 187 196 210]\n"
     ]
    },
    {
     "data": {
      "text/plain": [
       "(None, None)"
      ]
     },
     "execution_count": 8,
     "metadata": {},
     "output_type": "execute_result"
    }
   ],
   "source": [
    "print(X),print(y)"
   ]
  },
  {
   "cell_type": "code",
   "execution_count": 9,
   "id": "7d8bf06c",
   "metadata": {},
   "outputs": [
    {
     "data": {
      "text/plain": [
       "(6, 3)"
      ]
     },
     "execution_count": 9,
     "metadata": {},
     "output_type": "execute_result"
    }
   ],
   "source": [
    "X.shape"
   ]
  },
  {
   "cell_type": "code",
   "execution_count": 10,
   "id": "2c4b9741",
   "metadata": {},
   "outputs": [],
   "source": [
    "n_features = 1 \n",
    "X = X.reshape((X.shape[0], X.shape[1], n_features))"
   ]
  },
  {
   "cell_type": "code",
   "execution_count": 12,
   "id": "848de504",
   "metadata": {},
   "outputs": [
    {
     "data": {
      "text/plain": [
       "<keras.callbacks.History at 0x20a590e7e80>"
      ]
     },
     "execution_count": 12,
     "metadata": {},
     "output_type": "execute_result"
    }
   ],
   "source": [
    "model = Sequential()\n",
    "model.add(LSTM(50, activation = 'relu', return_sequences = True, input_shape=(n_steps, n_features)))\n",
    "model.add(LSTM(50, activation = 'relu'))\n",
    "model.add(Dense(1))\n",
    "model.compile(optimizer = 'adam', loss= 'mse')\n",
    "\n",
    "model.fit(X, y, epochs = 300, verbose = 0)"
   ]
  },
  {
   "cell_type": "markdown",
   "id": "9a159c68",
   "metadata": {},
   "source": [
    "# Predicting for the next 10 data "
   ]
  },
  {
   "cell_type": "code",
   "execution_count": 27,
   "id": "98514398",
   "metadata": {},
   "outputs": [],
   "source": [
    "x_input = np.array([187, 196, 210])"
   ]
  },
  {
   "cell_type": "code",
   "execution_count": 28,
   "id": "ff7d44c1",
   "metadata": {},
   "outputs": [
    {
     "name": "stdout",
     "output_type": "stream",
     "text": [
      "[222.63327]\n",
      "1 day output [[233.71925]]\n",
      "2 day output [[246.9532]]\n",
      "3 day output [[259.58148]]\n",
      "4 day output [[272.08124]]\n",
      "5 day output [[285.654]]\n",
      "6 day output [[299.10724]]\n",
      "7 day output [[312.87964]]\n",
      "8 day output [[327.32385]]\n",
      "9 day output [[341.95642]]\n"
     ]
    }
   ],
   "source": [
    "temp_input = list(x_input)\n",
    "lst_output = []\n",
    "i = 0 \n",
    "while(i<10):\n",
    "    if(len(temp_input)>3):\n",
    "        #print(temp_input)\n",
    "        x_input = np.array(temp_input[1:])\n",
    "        x_input = x_input.reshape((1, n_steps, n_features))\n",
    "        yhat = model.predict(x_input, verbose = 0)\n",
    "        print(\"{} day output {}\".format(i, yhat))\n",
    "        temp_input.append(yhat[0][0])\n",
    "        temp_input = temp_input[1:]\n",
    "        \n",
    "        lst_output.append(yhat[0][0])\n",
    "        i+=1\n",
    "        \n",
    "    else: \n",
    "        x_input = x_input.reshape((1, n_steps, n_features))\n",
    "        yhat = model.predict(x_input, verbose =0)\n",
    "        print(yhat[0])\n",
    "        temp_input.append(yhat[0][0])\n",
    "        lst_output.append(yhat[0][0])\n",
    "        i=i+1\n",
    "        "
   ]
  },
  {
   "cell_type": "code",
   "execution_count": 29,
   "id": "5e76a0fd",
   "metadata": {},
   "outputs": [
    {
     "data": {
      "text/plain": [
       "[222.63327,\n",
       " 233.71925,\n",
       " 246.9532,\n",
       " 259.58148,\n",
       " 272.08124,\n",
       " 285.654,\n",
       " 299.10724,\n",
       " 312.87964,\n",
       " 327.32385,\n",
       " 341.95642]"
      ]
     },
     "execution_count": 29,
     "metadata": {},
     "output_type": "execute_result"
    }
   ],
   "source": [
    "lst_output"
   ]
  },
  {
   "cell_type": "markdown",
   "id": "ff5f8b67",
   "metadata": {},
   "source": [
    "# Visualization the Output"
   ]
  },
  {
   "cell_type": "code",
   "execution_count": 30,
   "id": "247e0285",
   "metadata": {},
   "outputs": [],
   "source": [
    "day_new = np.arange(1, 10)\n",
    "day_pred = np.arange(10, 20)"
   ]
  },
  {
   "cell_type": "code",
   "execution_count": 32,
   "id": "49c5f522",
   "metadata": {},
   "outputs": [
    {
     "data": {
      "text/plain": [
       "[<matplotlib.lines.Line2D at 0x20a5d6640a0>]"
      ]
     },
     "execution_count": 32,
     "metadata": {},
     "output_type": "execute_result"
    },
    {
     "data": {
      "image/png": "[encoded data removed]",
      "text/plain": [
       "<Figure size 432x288 with 1 Axes>"
      ]
     },
     "metadata": {
      "needs_background": "light"
     },
     "output_type": "display_data"
    }
   ],
   "source": [
    "plt.plot(day_new, timeseries_data)\n",
    "plt.plot(day_pred, lst_output)"
   ]
  },
  {
   "cell_type": "code",
   "execution_count": 33,
   "id": "443f0ef2",
   "metadata": {},
   "outputs": [
    {
     "name": "stdout",
     "output_type": "stream",
     "text": [
      "Model: \"sequential_1\"\n",
      "_________________________________________________________________\n",
      " Layer (type)                Output Shape              Param #   \n",
      "=================================================================\n",
      " lstm (LSTM)                 (None, 3, 50)             10400     \n",
      "                                                                 \n",
      " lstm_1 (LSTM)               (None, 50)                20200     \n",
      "                                                                 \n",
      " dense (Dense)               (None, 1)                 51        \n",
      "                                                                 \n",
      "=================================================================\n",
      "Total params: 30,651\n",
      "Trainable params: 30,651\n",
      "Non-trainable params: 0\n",
      "_________________________________________________________________\n"
     ]
    }
   ],
   "source": [
    "model.summary()"
   ]
  },
  {
   "cell_type": "code",
   "execution_count": null,
   "id": "508564e0",
   "metadata": {},
   "outputs": [],
   "source": []
  }
 ],
 "metadata": {
  "kernelspec": {
   "display_name": "Python 3 (ipykernel)",
   "language": "python",
   "name": "python3"
  },
  "language_info": {
   "codemirror_mode": {
    "name": "ipython",
    "version": 3
   },
   "file_extension": ".py",
   "mimetype": "text/x-python",
   "name": "python",
   "nbconvert_exporter": "python",
   "pygments_lexer": "ipython3",
   "version": "3.9.10"
  }
 },
 "nbformat": 4,
 "nbformat_minor": 5
}
